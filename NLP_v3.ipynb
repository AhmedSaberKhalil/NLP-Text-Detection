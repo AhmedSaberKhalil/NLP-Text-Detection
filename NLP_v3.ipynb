{
  "cells": [
    {
      "cell_type": "markdown",
      "id": "nrIv8Ezxwe-O",
      "metadata": {
        "id": "nrIv8Ezxwe-O"
      },
      "source": [
        "# Load Data from google drive"
      ]
    },
    {
      "cell_type": "code",
      "execution_count": 1,
      "id": "V6zefOsNv9Cx",
      "metadata": {
        "colab": {
          "base_uri": "https://localhost:8080/"
        },
        "id": "V6zefOsNv9Cx",
        "outputId": "52d56cfd-8b8c-4122-c9df-370fa4d6e4d1"
      },
      "outputs": [
        {
          "name": "stdout",
          "output_type": "stream",
          "text": [
            "Downloading...\n",
            "From: https://drive.google.com/uc?id=1vEIbcQQCeg5XlE7NAmDRXzUCu3fssZOe\n",
            "To: /content/Language Detection.csv\n",
            "100% 1.91M/1.91M [00:00<00:00, 8.97MB/s]\n"
          ]
        }
      ],
      "source": [
        "!gdown --id 1vEIbcQQCeg5XlE7NAmDRXzUCu3fssZOe"
      ]
    },
    {
      "cell_type": "markdown",
      "id": "058c9ce5",
      "metadata": {
        "id": "058c9ce5"
      },
      "source": [
        "# libraries"
      ]
    },
    {
      "cell_type": "code",
      "execution_count": 2,
      "id": "000488bb",
      "metadata": {
        "colab": {
          "base_uri": "https://localhost:8080/"
        },
        "id": "000488bb",
        "outputId": "dbfd0825-c024-4a13-b6c8-eb88f2596847"
      },
      "outputs": [
        {
          "name": "stdout",
          "output_type": "stream",
          "text": [
            "\u001b[38;5;2m✔ Download and installation successful\u001b[0m\n",
            "You can now load the model via spacy.load('en_core_web_sm')\n",
            "\u001b[38;5;2m✔ Download and installation successful\u001b[0m\n",
            "You can now load the model via spacy.load('fr_core_news_sm')\n",
            "\u001b[38;5;2m✔ Download and installation successful\u001b[0m\n",
            "You can now load the model via spacy.load('es_core_news_sm')\n",
            "\u001b[38;5;2m✔ Download and installation successful\u001b[0m\n",
            "You can now load the model via spacy.load('it_core_news_sm')\n",
            "\u001b[38;5;2m✔ Download and installation successful\u001b[0m\n",
            "You can now load the model via spacy.load('nl_core_news_sm')\n",
            "\u001b[38;5;2m✔ Download and installation successful\u001b[0m\n",
            "You can now load the model via spacy.load('de_core_news_sm')\n",
            "[nltk_data] Downloading package stopwords to /root/nltk_data...\n",
            "[nltk_data]   Package stopwords is already up-to-date!\n",
            "[nltk_data] Downloading package punkt to /root/nltk_data...\n",
            "[nltk_data]   Package punkt is already up-to-date!\n",
            "[nltk_data] Downloading package wordnet to /root/nltk_data...\n",
            "[nltk_data]   Package wordnet is already up-to-date!\n"
          ]
        }
      ],
      "source": [
        "import pandas as pd\n",
        "import numpy as np\n",
        "import re\n",
        "import seaborn as sns\n",
        "import matplotlib.pyplot as plt\n",
        "import string\n",
        "import nltk\n",
        "from nltk.stem.porter import PorterStemmer\n",
        "from nltk.stem import WordNetLemmatizer\n",
        "from sklearn.preprocessing import LabelEncoder\n",
        "from sklearn.feature_extraction.text import CountVectorizer\n",
        "from sklearn.model_selection import train_test_split\n",
        "from sklearn.naive_bayes import MultinomialNB\n",
        "from sklearn.ensemble import RandomForestClassifier\n",
        "from sklearn.metrics import mean_squared_error, classification_report, mean_absolute_error, confusion_matrix, accuracy_score\n",
        "from sklearn.svm import SVC\n",
        "from nltk.stem.snowball import SnowballStemmer\n",
        "from nltk.stem.arlstem import ARLSTem\n",
        "import spacy\n",
        "import spacy.cli\n",
        "spacy.cli.download(\"en_core_web_sm\")\n",
        "spacy.cli.download(\"fr_core_news_sm\")\n",
        "spacy.cli.download(\"es_core_news_sm\")\n",
        "spacy.cli.download(\"it_core_news_sm\")\n",
        "spacy.cli.download(\"nl_core_news_sm\")\n",
        "spacy.cli.download(\"de_core_news_sm\")\n",
        "from nltk.corpus import stopwords\n",
        "nltk.download('stopwords')\n",
        "nltk.download('punkt')\n",
        "nltk.download('wordnet')\n",
        "from sklearn.neighbors import KNeighborsClassifier\n",
        "from sklearn.tree import DecisionTreeClassifier\n",
        "from sklearn.linear_model import SGDClassifier"
      ]
    },
    {
      "cell_type": "markdown",
      "id": "d6fd9672",
      "metadata": {
        "id": "d6fd9672"
      },
      "source": [
        "# Load Data"
      ]
    },
    {
      "cell_type": "code",
      "execution_count": 13,
      "id": "1f454274",
      "metadata": {
        "colab": {
          "base_uri": "https://localhost:8080/",
          "height": 676
        },
        "id": "1f454274",
        "outputId": "7b7c254a-6346-4be5-fd52-8750ce43acd8",
        "scrolled": true
      },
      "outputs": [
        {
          "data": {
            "text/html": [
              "<div>\n",
              "<style scoped>\n",
              "    .dataframe tbody tr th:only-of-type {\n",
              "        vertical-align: middle;\n",
              "    }\n",
              "\n",
              "    .dataframe tbody tr th {\n",
              "        vertical-align: top;\n",
              "    }\n",
              "\n",
              "    .dataframe thead th {\n",
              "        text-align: right;\n",
              "    }\n",
              "</style>\n",
              "<table border=\"1\" class=\"dataframe\">\n",
              "  <thead>\n",
              "    <tr style=\"text-align: right;\">\n",
              "      <th></th>\n",
              "      <th>Text</th>\n",
              "      <th>Language</th>\n",
              "    </tr>\n",
              "  </thead>\n",
              "  <tbody>\n",
              "    <tr>\n",
              "      <th>0</th>\n",
              "      <td>Nature, in the broadest sense, is the natural...</td>\n",
              "      <td>English</td>\n",
              "    </tr>\n",
              "    <tr>\n",
              "      <th>1</th>\n",
              "      <td>\"Nature\" can refer to the phenomena of the phy...</td>\n",
              "      <td>English</td>\n",
              "    </tr>\n",
              "    <tr>\n",
              "      <th>2</th>\n",
              "      <td>The study of nature is a large, if not the onl...</td>\n",
              "      <td>English</td>\n",
              "    </tr>\n",
              "    <tr>\n",
              "      <th>3</th>\n",
              "      <td>Although humans are part of nature, human acti...</td>\n",
              "      <td>English</td>\n",
              "    </tr>\n",
              "    <tr>\n",
              "      <th>4</th>\n",
              "      <td>[1] The word nature is borrowed from the Old F...</td>\n",
              "      <td>English</td>\n",
              "    </tr>\n",
              "    <tr>\n",
              "      <th>5</th>\n",
              "      <td>[2] In ancient philosophy, natura is mostly us...</td>\n",
              "      <td>English</td>\n",
              "    </tr>\n",
              "    <tr>\n",
              "      <th>6</th>\n",
              "      <td>[3][4] \\nThe concept of nature as a whole, the...</td>\n",
              "      <td>English</td>\n",
              "    </tr>\n",
              "    <tr>\n",
              "      <th>7</th>\n",
              "      <td>During the advent of modern scientific method ...</td>\n",
              "      <td>English</td>\n",
              "    </tr>\n",
              "    <tr>\n",
              "      <th>8</th>\n",
              "      <td>[5][6] With the Industrial revolution, nature ...</td>\n",
              "      <td>English</td>\n",
              "    </tr>\n",
              "    <tr>\n",
              "      <th>9</th>\n",
              "      <td>However, a vitalist vision of nature, closer t...</td>\n",
              "      <td>English</td>\n",
              "    </tr>\n",
              "    <tr>\n",
              "      <th>10</th>\n",
              "      <td>[1] Within the various uses of the word today,...</td>\n",
              "      <td>English</td>\n",
              "    </tr>\n",
              "    <tr>\n",
              "      <th>11</th>\n",
              "      <td>Nature can refer to the general realm of livin...</td>\n",
              "      <td>English</td>\n",
              "    </tr>\n",
              "    <tr>\n",
              "      <th>12</th>\n",
              "      <td>It is often taken to mean the \"natural environ...</td>\n",
              "      <td>English</td>\n",
              "    </tr>\n",
              "    <tr>\n",
              "      <th>13</th>\n",
              "      <td>For example, manufactured objects and human in...</td>\n",
              "      <td>English</td>\n",
              "    </tr>\n",
              "    <tr>\n",
              "      <th>14</th>\n",
              "      <td>This more traditional concept of natural thing...</td>\n",
              "      <td>English</td>\n",
              "    </tr>\n",
              "    <tr>\n",
              "      <th>15</th>\n",
              "      <td>Depending on the particular context, the term ...</td>\n",
              "      <td>English</td>\n",
              "    </tr>\n",
              "    <tr>\n",
              "      <th>16</th>\n",
              "      <td>[1] Earth is the only planet known to support ...</td>\n",
              "      <td>English</td>\n",
              "    </tr>\n",
              "    <tr>\n",
              "      <th>17</th>\n",
              "      <td>Within the solar system, it is third closest t...</td>\n",
              "      <td>English</td>\n",
              "    </tr>\n",
              "    <tr>\n",
              "      <th>18</th>\n",
              "      <td>Its most prominent climatic features are its t...</td>\n",
              "      <td>English</td>\n",
              "    </tr>\n",
              "    <tr>\n",
              "      <th>19</th>\n",
              "      <td>[7] Precipitation varies widely with location,...</td>\n",
              "      <td>English</td>\n",
              "    </tr>\n",
              "  </tbody>\n",
              "</table>\n",
              "</div>"
            ],
            "text/plain": [
              "                                                 Text Language\n",
              "0    Nature, in the broadest sense, is the natural...  English\n",
              "1   \"Nature\" can refer to the phenomena of the phy...  English\n",
              "2   The study of nature is a large, if not the onl...  English\n",
              "3   Although humans are part of nature, human acti...  English\n",
              "4   [1] The word nature is borrowed from the Old F...  English\n",
              "5   [2] In ancient philosophy, natura is mostly us...  English\n",
              "6   [3][4] \\nThe concept of nature as a whole, the...  English\n",
              "7   During the advent of modern scientific method ...  English\n",
              "8   [5][6] With the Industrial revolution, nature ...  English\n",
              "9   However, a vitalist vision of nature, closer t...  English\n",
              "10  [1] Within the various uses of the word today,...  English\n",
              "11  Nature can refer to the general realm of livin...  English\n",
              "12  It is often taken to mean the \"natural environ...  English\n",
              "13  For example, manufactured objects and human in...  English\n",
              "14  This more traditional concept of natural thing...  English\n",
              "15  Depending on the particular context, the term ...  English\n",
              "16  [1] Earth is the only planet known to support ...  English\n",
              "17  Within the solar system, it is third closest t...  English\n",
              "18  Its most prominent climatic features are its t...  English\n",
              "19  [7] Precipitation varies widely with location,...  English"
            ]
          },
          "execution_count": 13,
          "metadata": {},
          "output_type": "execute_result"
        }
      ],
      "source": [
        "data = pd.read_csv(\"Language Detection.csv\")\n",
        "data.head(20)"
      ]
    },
    {
      "cell_type": "code",
      "execution_count": 14,
      "id": "n2OXpCkiWwGs",
      "metadata": {
        "colab": {
          "base_uri": "https://localhost:8080/"
        },
        "id": "n2OXpCkiWwGs",
        "outputId": "b20d944b-2915-40f4-dd58-7ae238d92452"
      },
      "outputs": [
        {
          "data": {
            "text/plain": [
              "(10337, 2)"
            ]
          },
          "execution_count": 14,
          "metadata": {},
          "output_type": "execute_result"
        }
      ],
      "source": [
        "data.shape"
      ]
    },
    {
      "cell_type": "code",
      "execution_count": 15,
      "id": "TIhuMefpWxwT",
      "metadata": {
        "colab": {
          "base_uri": "https://localhost:8080/",
          "height": 676
        },
        "id": "TIhuMefpWxwT",
        "outputId": "74c4aa00-2af9-47e8-86ff-596bc7a3b813"
      },
      "outputs": [
        {
          "data": {
            "text/html": [
              "<div>\n",
              "<style scoped>\n",
              "    .dataframe tbody tr th:only-of-type {\n",
              "        vertical-align: middle;\n",
              "    }\n",
              "\n",
              "    .dataframe tbody tr th {\n",
              "        vertical-align: top;\n",
              "    }\n",
              "\n",
              "    .dataframe thead th {\n",
              "        text-align: right;\n",
              "    }\n",
              "</style>\n",
              "<table border=\"1\" class=\"dataframe\">\n",
              "  <thead>\n",
              "    <tr style=\"text-align: right;\">\n",
              "      <th></th>\n",
              "      <th>Text</th>\n",
              "      <th>Language</th>\n",
              "    </tr>\n",
              "  </thead>\n",
              "  <tbody>\n",
              "    <tr>\n",
              "      <th>6628</th>\n",
              "      <td>Со своей единственной дочерью Нарциса Марион б...</td>\n",
              "      <td>Russian</td>\n",
              "    </tr>\n",
              "    <tr>\n",
              "      <th>4425</th>\n",
              "      <td>dus vandaag gaan we 10 nieuwe slimme woorden l...</td>\n",
              "      <td>Dutch</td>\n",
              "    </tr>\n",
              "    <tr>\n",
              "      <th>4277</th>\n",
              "      <td>Voor Wikipedia is een apart programma ontworpen.</td>\n",
              "      <td>Dutch</td>\n",
              "    </tr>\n",
              "    <tr>\n",
              "      <th>7603</th>\n",
              "      <td>voglio continuare non sono stanco non è quando...</td>\n",
              "      <td>Italian</td>\n",
              "    </tr>\n",
              "    <tr>\n",
              "      <th>8673</th>\n",
              "      <td>fras nummer ett detta är ett annat sätt att fr...</td>\n",
              "      <td>Sweedish</td>\n",
              "    </tr>\n",
              "    <tr>\n",
              "      <th>8173</th>\n",
              "      <td>öneriler.</td>\n",
              "      <td>Turkish</td>\n",
              "    </tr>\n",
              "    <tr>\n",
              "      <th>4035</th>\n",
              "      <td>si vous êtes au milieu de quelque chose chez q...</td>\n",
              "      <td>French</td>\n",
              "    </tr>\n",
              "    <tr>\n",
              "      <th>8728</th>\n",
              "      <td>saker händer bli inte upprörd om du inte har n...</td>\n",
              "      <td>Sweedish</td>\n",
              "    </tr>\n",
              "    <tr>\n",
              "      <th>7902</th>\n",
              "      <td>Kanada Parlamentosu, Vikipedi'nin aynı cinste ...</td>\n",
              "      <td>Turkish</td>\n",
              "    </tr>\n",
              "    <tr>\n",
              "      <th>6632</th>\n",
              "      <td>У меня вся эта грязь на моих прекрасных пальчи...</td>\n",
              "      <td>Russian</td>\n",
              "    </tr>\n",
              "    <tr>\n",
              "      <th>9603</th>\n",
              "      <td>Satz Nummer zwei, wenn Sie jemanden eine Weile...</td>\n",
              "      <td>German</td>\n",
              "    </tr>\n",
              "    <tr>\n",
              "      <th>50</th>\n",
              "      <td>[17] Since the Cambrian explosion there have b...</td>\n",
              "      <td>English</td>\n",
              "    </tr>\n",
              "    <tr>\n",
              "      <th>2285</th>\n",
              "      <td>சொந்த பேச்சாளர்கள் பயன்படுத்துவது உங்களுக்கு ந...</td>\n",
              "      <td>Tamil</td>\n",
              "    </tr>\n",
              "    <tr>\n",
              "      <th>3046</th>\n",
              "      <td>não, você fez um trabalho incrível.</td>\n",
              "      <td>Portugeese</td>\n",
              "    </tr>\n",
              "    <tr>\n",
              "      <th>3440</th>\n",
              "      <td>La dichotomie nature / culture est une spécifi...</td>\n",
              "      <td>French</td>\n",
              "    </tr>\n",
              "    <tr>\n",
              "      <th>881</th>\n",
              "      <td>Examples include artificial neural networks, m...</td>\n",
              "      <td>English</td>\n",
              "    </tr>\n",
              "    <tr>\n",
              "      <th>745</th>\n",
              "      <td>The first of these was the 1986 BBC Domesday P...</td>\n",
              "      <td>English</td>\n",
              "    </tr>\n",
              "    <tr>\n",
              "      <th>10000</th>\n",
              "      <td>ನಾನು ಮುಂದಿನ ಬಾರಿ ನೀವು ಶಾಲೆಯಿಂದ ಗಣಿತದ ಮನೆಕೆಲಸವನ...</td>\n",
              "      <td>Kannada</td>\n",
              "    </tr>\n",
              "    <tr>\n",
              "      <th>1571</th>\n",
              "      <td>അപ്പോൾ 1959ൽ അദ്ദേഹം  ഐ ബി എമ്മിൽ എഞ്ചിനിയർ ആയ...</td>\n",
              "      <td>Malayalam</td>\n",
              "    </tr>\n",
              "    <tr>\n",
              "      <th>9426</th>\n",
              "      <td>يقدم عروض.</td>\n",
              "      <td>Arabic</td>\n",
              "    </tr>\n",
              "  </tbody>\n",
              "</table>\n",
              "</div>"
            ],
            "text/plain": [
              "                                                    Text    Language\n",
              "6628   Со своей единственной дочерью Нарциса Марион б...     Russian\n",
              "4425   dus vandaag gaan we 10 nieuwe slimme woorden l...       Dutch\n",
              "4277    Voor Wikipedia is een apart programma ontworpen.       Dutch\n",
              "7603   voglio continuare non sono stanco non è quando...     Italian\n",
              "8673   fras nummer ett detta är ett annat sätt att fr...    Sweedish\n",
              "8173                                           öneriler.     Turkish\n",
              "4035   si vous êtes au milieu de quelque chose chez q...      French\n",
              "8728   saker händer bli inte upprörd om du inte har n...    Sweedish\n",
              "7902   Kanada Parlamentosu, Vikipedi'nin aynı cinste ...     Turkish\n",
              "6632   У меня вся эта грязь на моих прекрасных пальчи...     Russian\n",
              "9603   Satz Nummer zwei, wenn Sie jemanden eine Weile...      German\n",
              "50     [17] Since the Cambrian explosion there have b...     English\n",
              "2285   சொந்த பேச்சாளர்கள் பயன்படுத்துவது உங்களுக்கு ந...       Tamil\n",
              "3046                 não, você fez um trabalho incrível.  Portugeese\n",
              "3440   La dichotomie nature / culture est une spécifi...      French\n",
              "881    Examples include artificial neural networks, m...     English\n",
              "745    The first of these was the 1986 BBC Domesday P...     English\n",
              "10000  ನಾನು ಮುಂದಿನ ಬಾರಿ ನೀವು ಶಾಲೆಯಿಂದ ಗಣಿತದ ಮನೆಕೆಲಸವನ...     Kannada\n",
              "1571   അപ്പോൾ 1959ൽ അദ്ദേഹം  ഐ ബി എമ്മിൽ എഞ്ചിനിയർ ആയ...   Malayalam\n",
              "9426                                          يقدم عروض.      Arabic"
            ]
          },
          "execution_count": 15,
          "metadata": {},
          "output_type": "execute_result"
        }
      ],
      "source": [
        "data = data.sample(frac = 1)\n",
        "data.head(20)"
      ]
    },
    {
      "cell_type": "markdown",
      "id": "28b3cb5b",
      "metadata": {
        "id": "28b3cb5b"
      },
      "source": [
        "# explore data"
      ]
    },
    {
      "cell_type": "code",
      "execution_count": 16,
      "id": "0d59e9b5",
      "metadata": {
        "colab": {
          "base_uri": "https://localhost:8080/"
        },
        "id": "0d59e9b5",
        "outputId": "156dd557-98a4-42f0-a46d-c21b69f8d810"
      },
      "outputs": [
        {
          "name": "stdout",
          "output_type": "stream",
          "text": [
            "<class 'pandas.core.frame.DataFrame'>\n",
            "Int64Index: 10337 entries, 6628 to 3577\n",
            "Data columns (total 2 columns):\n",
            " #   Column    Non-Null Count  Dtype \n",
            "---  ------    --------------  ----- \n",
            " 0   Text      10337 non-null  object\n",
            " 1   Language  10337 non-null  object\n",
            "dtypes: object(2)\n",
            "memory usage: 242.3+ KB\n"
          ]
        }
      ],
      "source": [
        "data.info()"
      ]
    },
    {
      "cell_type": "code",
      "execution_count": 17,
      "id": "5295b554",
      "metadata": {
        "colab": {
          "base_uri": "https://localhost:8080/"
        },
        "id": "5295b554",
        "outputId": "8fe79eb3-9246-44db-d357-a91a1ed2eca6"
      },
      "outputs": [
        {
          "data": {
            "text/plain": [
              "English       1385\n",
              "French        1014\n",
              "Spanish        819\n",
              "Portugeese     739\n",
              "Italian        698\n",
              "Russian        692\n",
              "Sweedish       676\n",
              "Malayalam      594\n",
              "Dutch          546\n",
              "Arabic         536\n",
              "Turkish        474\n",
              "German         470\n",
              "Tamil          469\n",
              "Danish         428\n",
              "Kannada        369\n",
              "Greek          365\n",
              "Hindi           63\n",
              "Name: Language, dtype: int64"
            ]
          },
          "execution_count": 17,
          "metadata": {},
          "output_type": "execute_result"
        }
      ],
      "source": [
        "data[\"Language\"].value_counts()"
      ]
    },
    {
      "cell_type": "markdown",
      "id": "4f141e7f",
      "metadata": {
        "id": "4f141e7f"
      },
      "source": [
        "# Data Visualization"
      ]
    },
    {
      "cell_type": "code",
      "execution_count": 18,
      "id": "1768c32b",
      "metadata": {
        "colab": {
          "base_uri": "https://localhost:8080/",
          "height": 296
        },
        "id": "1768c32b",
        "outputId": "7ea50f1f-b6ef-4299-dafa-1146838fcc8c"
      },
      "outputs": [
        {
          "data": {
            "text/plain": [
              "<matplotlib.axes._subplots.AxesSubplot at 0x7f91bdc69790>"
            ]
          },
          "execution_count": 18,
          "metadata": {},
          "output_type": "execute_result"
        },
        {
          "data": {
            "image/png": "[encoded data removed]",
            "text/plain": [
              "<Figure size 432x288 with 1 Axes>"
            ]
          },
          "metadata": {
            "needs_background": "light"
          },
          "output_type": "display_data"
        }
      ],
      "source": [
        "sns.countplot(y=\"Language\", data=data)"
      ]
    },
    {
      "cell_type": "markdown",
      "id": "78547b3b",
      "metadata": {
        "id": "78547b3b"
      },
      "source": [
        "# data preprocessing"
      ]
    },
    {
      "cell_type": "markdown",
      "id": "06bfea43",
      "metadata": {
        "id": "06bfea43"
      },
      "source": [
        "#### remove punctuation"
      ]
    },
    {
      "cell_type": "code",
      "execution_count": 19,
      "id": "a0e17ffc",
      "metadata": {
        "colab": {
          "base_uri": "https://localhost:8080/",
          "height": 676
        },
        "id": "a0e17ffc",
        "outputId": "8c9d17c6-80d5-47ca-b02e-feb644781d0a"
      },
      "outputs": [
        {
          "data": {
            "text/html": [
              "<div>\n",
              "<style scoped>\n",
              "    .dataframe tbody tr th:only-of-type {\n",
              "        vertical-align: middle;\n",
              "    }\n",
              "\n",
              "    .dataframe tbody tr th {\n",
              "        vertical-align: top;\n",
              "    }\n",
              "\n",
              "    .dataframe thead th {\n",
              "        text-align: right;\n",
              "    }\n",
              "</style>\n",
              "<table border=\"1\" class=\"dataframe\">\n",
              "  <thead>\n",
              "    <tr style=\"text-align: right;\">\n",
              "      <th></th>\n",
              "      <th>Text</th>\n",
              "      <th>Language</th>\n",
              "    </tr>\n",
              "  </thead>\n",
              "  <tbody>\n",
              "    <tr>\n",
              "      <th>6628</th>\n",
              "      <td>Со своей единственной дочерью Нарциса Марион б...</td>\n",
              "      <td>Russian</td>\n",
              "    </tr>\n",
              "    <tr>\n",
              "      <th>4425</th>\n",
              "      <td>dus vandaag gaan we 10 nieuwe slimme woorden l...</td>\n",
              "      <td>Dutch</td>\n",
              "    </tr>\n",
              "    <tr>\n",
              "      <th>4277</th>\n",
              "      <td>Voor Wikipedia is een apart programma ontworpen</td>\n",
              "      <td>Dutch</td>\n",
              "    </tr>\n",
              "    <tr>\n",
              "      <th>7603</th>\n",
              "      <td>voglio continuare non sono stanco non è quando...</td>\n",
              "      <td>Italian</td>\n",
              "    </tr>\n",
              "    <tr>\n",
              "      <th>8673</th>\n",
              "      <td>fras nummer ett detta är ett annat sätt att fråga</td>\n",
              "      <td>Sweedish</td>\n",
              "    </tr>\n",
              "    <tr>\n",
              "      <th>8173</th>\n",
              "      <td>öneriler</td>\n",
              "      <td>Turkish</td>\n",
              "    </tr>\n",
              "    <tr>\n",
              "      <th>4035</th>\n",
              "      <td>si vous êtes au milieu de quelque chose chez q...</td>\n",
              "      <td>French</td>\n",
              "    </tr>\n",
              "    <tr>\n",
              "      <th>8728</th>\n",
              "      <td>saker händer bli inte upprörd om du inte har n...</td>\n",
              "      <td>Sweedish</td>\n",
              "    </tr>\n",
              "    <tr>\n",
              "      <th>7902</th>\n",
              "      <td>Kanada Parlamentosu Vikipedinin aynı cinste in...</td>\n",
              "      <td>Turkish</td>\n",
              "    </tr>\n",
              "    <tr>\n",
              "      <th>6632</th>\n",
              "      <td>У меня вся эта грязь на моих прекрасных пальчи...</td>\n",
              "      <td>Russian</td>\n",
              "    </tr>\n",
              "    <tr>\n",
              "      <th>9603</th>\n",
              "      <td>Satz Nummer zwei wenn Sie jemanden eine Weile ...</td>\n",
              "      <td>German</td>\n",
              "    </tr>\n",
              "    <tr>\n",
              "      <th>50</th>\n",
              "      <td>17 Since the Cambrian explosion there have bee...</td>\n",
              "      <td>English</td>\n",
              "    </tr>\n",
              "    <tr>\n",
              "      <th>2285</th>\n",
              "      <td>சொந்த பேச்சாளர்கள் பயன்படுத்துவது உங்களுக்கு ந...</td>\n",
              "      <td>Tamil</td>\n",
              "    </tr>\n",
              "    <tr>\n",
              "      <th>3046</th>\n",
              "      <td>não você fez um trabalho incrível</td>\n",
              "      <td>Portugeese</td>\n",
              "    </tr>\n",
              "    <tr>\n",
              "      <th>3440</th>\n",
              "      <td>La dichotomie nature  culture est une spécific...</td>\n",
              "      <td>French</td>\n",
              "    </tr>\n",
              "    <tr>\n",
              "      <th>881</th>\n",
              "      <td>Examples include artificial neural networks mu...</td>\n",
              "      <td>English</td>\n",
              "    </tr>\n",
              "    <tr>\n",
              "      <th>745</th>\n",
              "      <td>The first of these was the 1986 BBC Domesday P...</td>\n",
              "      <td>English</td>\n",
              "    </tr>\n",
              "    <tr>\n",
              "      <th>10000</th>\n",
              "      <td>ನಾನು ಮುಂದಿನ ಬಾರಿ ನೀವು ಶಾಲೆಯಿಂದ ಗಣಿತದ ಮನೆಕೆಲಸವನ...</td>\n",
              "      <td>Kannada</td>\n",
              "    </tr>\n",
              "    <tr>\n",
              "      <th>1571</th>\n",
              "      <td>അപ്പോൾ 1959ൽ അദ്ദേഹം  ഐ ബി എമ്മിൽ എഞ്ചിനിയർ ആയ...</td>\n",
              "      <td>Malayalam</td>\n",
              "    </tr>\n",
              "    <tr>\n",
              "      <th>9426</th>\n",
              "      <td>يقدم عروض</td>\n",
              "      <td>Arabic</td>\n",
              "    </tr>\n",
              "  </tbody>\n",
              "</table>\n",
              "</div>"
            ],
            "text/plain": [
              "                                                    Text    Language\n",
              "6628   Со своей единственной дочерью Нарциса Марион б...     Russian\n",
              "4425   dus vandaag gaan we 10 nieuwe slimme woorden l...       Dutch\n",
              "4277     Voor Wikipedia is een apart programma ontworpen       Dutch\n",
              "7603   voglio continuare non sono stanco non è quando...     Italian\n",
              "8673   fras nummer ett detta är ett annat sätt att fråga    Sweedish\n",
              "8173                                            öneriler     Turkish\n",
              "4035   si vous êtes au milieu de quelque chose chez q...      French\n",
              "8728   saker händer bli inte upprörd om du inte har n...    Sweedish\n",
              "7902   Kanada Parlamentosu Vikipedinin aynı cinste in...     Turkish\n",
              "6632   У меня вся эта грязь на моих прекрасных пальчи...     Russian\n",
              "9603   Satz Nummer zwei wenn Sie jemanden eine Weile ...      German\n",
              "50     17 Since the Cambrian explosion there have bee...     English\n",
              "2285   சொந்த பேச்சாளர்கள் பயன்படுத்துவது உங்களுக்கு ந...       Tamil\n",
              "3046                   não você fez um trabalho incrível  Portugeese\n",
              "3440   La dichotomie nature  culture est une spécific...      French\n",
              "881    Examples include artificial neural networks mu...     English\n",
              "745    The first of these was the 1986 BBC Domesday P...     English\n",
              "10000  ನಾನು ಮುಂದಿನ ಬಾರಿ ನೀವು ಶಾಲೆಯಿಂದ ಗಣಿತದ ಮನೆಕೆಲಸವನ...     Kannada\n",
              "1571   അപ്പോൾ 1959ൽ അദ്ദേഹം  ഐ ബി എമ്മിൽ എഞ്ചിനിയർ ആയ...   Malayalam\n",
              "9426                                           يقدم عروض      Arabic"
            ]
          },
          "execution_count": 19,
          "metadata": {},
          "output_type": "execute_result"
        }
      ],
      "source": [
        "def remove_punctuation(text):\n",
        "    data_list = [i for i in text if i not in string.punctuation]\n",
        "    data=\"\".join(data_list)\n",
        "    return data\n",
        "\n",
        "data['Text']= data['Text'].apply(lambda x:remove_punctuation(x))\n",
        "data.head(20)"
      ]
    },
    {
      "cell_type": "markdown",
      "id": "--K5Bsq_W76f",
      "metadata": {
        "id": "--K5Bsq_W76f"
      },
      "source": [
        "#### remove numbers from text"
      ]
    },
    {
      "cell_type": "code",
      "execution_count": 20,
      "id": "XklUgzmRW8iv",
      "metadata": {
        "colab": {
          "base_uri": "https://localhost:8080/",
          "height": 676
        },
        "id": "XklUgzmRW8iv",
        "outputId": "2ce75f24-6731-41c8-eae2-907f3e052150"
      },
      "outputs": [
        {
          "data": {
            "text/html": [
              "<div>\n",
              "<style scoped>\n",
              "    .dataframe tbody tr th:only-of-type {\n",
              "        vertical-align: middle;\n",
              "    }\n",
              "\n",
              "    .dataframe tbody tr th {\n",
              "        vertical-align: top;\n",
              "    }\n",
              "\n",
              "    .dataframe thead th {\n",
              "        text-align: right;\n",
              "    }\n",
              "</style>\n",
              "<table border=\"1\" class=\"dataframe\">\n",
              "  <thead>\n",
              "    <tr style=\"text-align: right;\">\n",
              "      <th></th>\n",
              "      <th>Text</th>\n",
              "      <th>Language</th>\n",
              "    </tr>\n",
              "  </thead>\n",
              "  <tbody>\n",
              "    <tr>\n",
              "      <th>6628</th>\n",
              "      <td>Со своей единственной дочерью Нарциса Марион б...</td>\n",
              "      <td>Russian</td>\n",
              "    </tr>\n",
              "    <tr>\n",
              "      <th>4425</th>\n",
              "      <td>dus vandaag gaan we  nieuwe slimme woorden ler...</td>\n",
              "      <td>Dutch</td>\n",
              "    </tr>\n",
              "    <tr>\n",
              "      <th>4277</th>\n",
              "      <td>Voor Wikipedia is een apart programma ontworpen</td>\n",
              "      <td>Dutch</td>\n",
              "    </tr>\n",
              "    <tr>\n",
              "      <th>7603</th>\n",
              "      <td>voglio continuare non sono stanco non è quando...</td>\n",
              "      <td>Italian</td>\n",
              "    </tr>\n",
              "    <tr>\n",
              "      <th>8673</th>\n",
              "      <td>fras nummer ett detta är ett annat sätt att fråga</td>\n",
              "      <td>Sweedish</td>\n",
              "    </tr>\n",
              "    <tr>\n",
              "      <th>8173</th>\n",
              "      <td>öneriler</td>\n",
              "      <td>Turkish</td>\n",
              "    </tr>\n",
              "    <tr>\n",
              "      <th>4035</th>\n",
              "      <td>si vous êtes au milieu de quelque chose chez q...</td>\n",
              "      <td>French</td>\n",
              "    </tr>\n",
              "    <tr>\n",
              "      <th>8728</th>\n",
              "      <td>saker händer bli inte upprörd om du inte har n...</td>\n",
              "      <td>Sweedish</td>\n",
              "    </tr>\n",
              "    <tr>\n",
              "      <th>7902</th>\n",
              "      <td>Kanada Parlamentosu Vikipedinin aynı cinste in...</td>\n",
              "      <td>Turkish</td>\n",
              "    </tr>\n",
              "    <tr>\n",
              "      <th>6632</th>\n",
              "      <td>У меня вся эта грязь на моих прекрасных пальчи...</td>\n",
              "      <td>Russian</td>\n",
              "    </tr>\n",
              "    <tr>\n",
              "      <th>9603</th>\n",
              "      <td>Satz Nummer zwei wenn Sie jemanden eine Weile ...</td>\n",
              "      <td>German</td>\n",
              "    </tr>\n",
              "    <tr>\n",
              "      <th>50</th>\n",
              "      <td>Since the Cambrian explosion there have been ...</td>\n",
              "      <td>English</td>\n",
              "    </tr>\n",
              "    <tr>\n",
              "      <th>2285</th>\n",
              "      <td>சொந்த பேச்சாளர்கள் பயன்படுத்துவது உங்களுக்கு ந...</td>\n",
              "      <td>Tamil</td>\n",
              "    </tr>\n",
              "    <tr>\n",
              "      <th>3046</th>\n",
              "      <td>não você fez um trabalho incrível</td>\n",
              "      <td>Portugeese</td>\n",
              "    </tr>\n",
              "    <tr>\n",
              "      <th>3440</th>\n",
              "      <td>La dichotomie nature  culture est une spécific...</td>\n",
              "      <td>French</td>\n",
              "    </tr>\n",
              "    <tr>\n",
              "      <th>881</th>\n",
              "      <td>Examples include artificial neural networks mu...</td>\n",
              "      <td>English</td>\n",
              "    </tr>\n",
              "    <tr>\n",
              "      <th>745</th>\n",
              "      <td>The first of these was the  BBC Domesday Proje...</td>\n",
              "      <td>English</td>\n",
              "    </tr>\n",
              "    <tr>\n",
              "      <th>10000</th>\n",
              "      <td>ನಾನು ಮುಂದಿನ ಬಾರಿ ನೀವು ಶಾಲೆಯಿಂದ ಗಣಿತದ ಮನೆಕೆಲಸವನ...</td>\n",
              "      <td>Kannada</td>\n",
              "    </tr>\n",
              "    <tr>\n",
              "      <th>1571</th>\n",
              "      <td>അപ്പോൾ ൽ അദ്ദേഹം  ഐ ബി എമ്മിൽ എഞ്ചിനിയർ ആയി ജോ...</td>\n",
              "      <td>Malayalam</td>\n",
              "    </tr>\n",
              "    <tr>\n",
              "      <th>9426</th>\n",
              "      <td>يقدم عروض</td>\n",
              "      <td>Arabic</td>\n",
              "    </tr>\n",
              "  </tbody>\n",
              "</table>\n",
              "</div>"
            ],
            "text/plain": [
              "                                                    Text    Language\n",
              "6628   Со своей единственной дочерью Нарциса Марион б...     Russian\n",
              "4425   dus vandaag gaan we  nieuwe slimme woorden ler...       Dutch\n",
              "4277     Voor Wikipedia is een apart programma ontworpen       Dutch\n",
              "7603   voglio continuare non sono stanco non è quando...     Italian\n",
              "8673   fras nummer ett detta är ett annat sätt att fråga    Sweedish\n",
              "8173                                            öneriler     Turkish\n",
              "4035   si vous êtes au milieu de quelque chose chez q...      French\n",
              "8728   saker händer bli inte upprörd om du inte har n...    Sweedish\n",
              "7902   Kanada Parlamentosu Vikipedinin aynı cinste in...     Turkish\n",
              "6632   У меня вся эта грязь на моих прекрасных пальчи...     Russian\n",
              "9603   Satz Nummer zwei wenn Sie jemanden eine Weile ...      German\n",
              "50      Since the Cambrian explosion there have been ...     English\n",
              "2285   சொந்த பேச்சாளர்கள் பயன்படுத்துவது உங்களுக்கு ந...       Tamil\n",
              "3046                   não você fez um trabalho incrível  Portugeese\n",
              "3440   La dichotomie nature  culture est une spécific...      French\n",
              "881    Examples include artificial neural networks mu...     English\n",
              "745    The first of these was the  BBC Domesday Proje...     English\n",
              "10000  ನಾನು ಮುಂದಿನ ಬಾರಿ ನೀವು ಶಾಲೆಯಿಂದ ಗಣಿತದ ಮನೆಕೆಲಸವನ...     Kannada\n",
              "1571   അപ്പോൾ ൽ അദ്ദേഹം  ഐ ബി എമ്മിൽ എഞ്ചിനിയർ ആയി ജോ...   Malayalam\n",
              "9426                                           يقدم عروض      Arabic"
            ]
          },
          "execution_count": 20,
          "metadata": {},
          "output_type": "execute_result"
        }
      ],
      "source": [
        "data['Text'] = data['Text'].str.replace('\\d+', '')\n",
        "data.head(20)"
      ]
    },
    {
      "cell_type": "markdown",
      "id": "7d143199",
      "metadata": {
        "id": "7d143199"
      },
      "source": [
        "#### remove english letter"
      ]
    },
    {
      "cell_type": "code",
      "execution_count": 21,
      "id": "9c33e70f",
      "metadata": {
        "colab": {
          "base_uri": "https://localhost:8080/",
          "height": 676
        },
        "id": "9c33e70f",
        "outputId": "f1eff7a9-eda0-472e-f53f-cfdf5d47bab6"
      },
      "outputs": [
        {
          "data": {
            "text/html": [
              "<div>\n",
              "<style scoped>\n",
              "    .dataframe tbody tr th:only-of-type {\n",
              "        vertical-align: middle;\n",
              "    }\n",
              "\n",
              "    .dataframe tbody tr th {\n",
              "        vertical-align: top;\n",
              "    }\n",
              "\n",
              "    .dataframe thead th {\n",
              "        text-align: right;\n",
              "    }\n",
              "</style>\n",
              "<table border=\"1\" class=\"dataframe\">\n",
              "  <thead>\n",
              "    <tr style=\"text-align: right;\">\n",
              "      <th></th>\n",
              "      <th>Text</th>\n",
              "      <th>Language</th>\n",
              "    </tr>\n",
              "  </thead>\n",
              "  <tbody>\n",
              "    <tr>\n",
              "      <th>6628</th>\n",
              "      <td>Со своей единственной дочерью Нарциса Марион б...</td>\n",
              "      <td>Russian</td>\n",
              "    </tr>\n",
              "    <tr>\n",
              "      <th>4425</th>\n",
              "      <td>dus vandaag gaan we  nieuwe slimme woorden ler...</td>\n",
              "      <td>Dutch</td>\n",
              "    </tr>\n",
              "    <tr>\n",
              "      <th>4277</th>\n",
              "      <td>Voor Wikipedia is een apart programma ontworpen</td>\n",
              "      <td>Dutch</td>\n",
              "    </tr>\n",
              "    <tr>\n",
              "      <th>7603</th>\n",
              "      <td>voglio continuare non sono stanco non è quando...</td>\n",
              "      <td>Italian</td>\n",
              "    </tr>\n",
              "    <tr>\n",
              "      <th>8673</th>\n",
              "      <td>fras nummer ett detta är ett annat sätt att fråga</td>\n",
              "      <td>Sweedish</td>\n",
              "    </tr>\n",
              "    <tr>\n",
              "      <th>8173</th>\n",
              "      <td>öneriler</td>\n",
              "      <td>Turkish</td>\n",
              "    </tr>\n",
              "    <tr>\n",
              "      <th>4035</th>\n",
              "      <td>si vous êtes au milieu de quelque chose chez q...</td>\n",
              "      <td>French</td>\n",
              "    </tr>\n",
              "    <tr>\n",
              "      <th>8728</th>\n",
              "      <td>saker händer bli inte upprörd om du inte har n...</td>\n",
              "      <td>Sweedish</td>\n",
              "    </tr>\n",
              "    <tr>\n",
              "      <th>7902</th>\n",
              "      <td>Kanada Parlamentosu Vikipedinin aynı cinste in...</td>\n",
              "      <td>Turkish</td>\n",
              "    </tr>\n",
              "    <tr>\n",
              "      <th>6632</th>\n",
              "      <td>У меня вся эта грязь на моих прекрасных пальчи...</td>\n",
              "      <td>Russian</td>\n",
              "    </tr>\n",
              "    <tr>\n",
              "      <th>9603</th>\n",
              "      <td>Satz Nummer zwei wenn Sie jemanden eine Weile ...</td>\n",
              "      <td>German</td>\n",
              "    </tr>\n",
              "    <tr>\n",
              "      <th>50</th>\n",
              "      <td>Since the Cambrian explosion there have been ...</td>\n",
              "      <td>English</td>\n",
              "    </tr>\n",
              "    <tr>\n",
              "      <th>2285</th>\n",
              "      <td>சொந்த பேச்சாளர்கள் பயன்படுத்துவது உங்களுக்கு ந...</td>\n",
              "      <td>Tamil</td>\n",
              "    </tr>\n",
              "    <tr>\n",
              "      <th>3046</th>\n",
              "      <td>não você fez um trabalho incrível</td>\n",
              "      <td>Portugeese</td>\n",
              "    </tr>\n",
              "    <tr>\n",
              "      <th>3440</th>\n",
              "      <td>La dichotomie nature  culture est une spécific...</td>\n",
              "      <td>French</td>\n",
              "    </tr>\n",
              "    <tr>\n",
              "      <th>881</th>\n",
              "      <td>Examples include artificial neural networks mu...</td>\n",
              "      <td>English</td>\n",
              "    </tr>\n",
              "    <tr>\n",
              "      <th>745</th>\n",
              "      <td>The first of these was the  BBC Domesday Proje...</td>\n",
              "      <td>English</td>\n",
              "    </tr>\n",
              "    <tr>\n",
              "      <th>10000</th>\n",
              "      <td>ನಾನು ಮುಂದಿನ ಬಾರಿ ನೀವು ಶಾಲೆಯಿಂದ ಗಣಿತದ ಮನೆಕೆಲಸವನ...</td>\n",
              "      <td>Kannada</td>\n",
              "    </tr>\n",
              "    <tr>\n",
              "      <th>1571</th>\n",
              "      <td>അപ്പോൾ ൽ അദ്ദേഹം  ഐ ബി എമ്മിൽ എഞ്ചിനിയർ ആയി ജോ...</td>\n",
              "      <td>Malayalam</td>\n",
              "    </tr>\n",
              "    <tr>\n",
              "      <th>9426</th>\n",
              "      <td>يقدم عروض</td>\n",
              "      <td>Arabic</td>\n",
              "    </tr>\n",
              "  </tbody>\n",
              "</table>\n",
              "</div>"
            ],
            "text/plain": [
              "                                                    Text    Language\n",
              "6628   Со своей единственной дочерью Нарциса Марион б...     Russian\n",
              "4425   dus vandaag gaan we  nieuwe slimme woorden ler...       Dutch\n",
              "4277     Voor Wikipedia is een apart programma ontworpen       Dutch\n",
              "7603   voglio continuare non sono stanco non è quando...     Italian\n",
              "8673   fras nummer ett detta är ett annat sätt att fråga    Sweedish\n",
              "8173                                            öneriler     Turkish\n",
              "4035   si vous êtes au milieu de quelque chose chez q...      French\n",
              "8728   saker händer bli inte upprörd om du inte har n...    Sweedish\n",
              "7902   Kanada Parlamentosu Vikipedinin aynı cinste in...     Turkish\n",
              "6632   У меня вся эта грязь на моих прекрасных пальчи...     Russian\n",
              "9603   Satz Nummer zwei wenn Sie jemanden eine Weile ...      German\n",
              "50      Since the Cambrian explosion there have been ...     English\n",
              "2285   சொந்த பேச்சாளர்கள் பயன்படுத்துவது உங்களுக்கு ந...       Tamil\n",
              "3046                   não você fez um trabalho incrível  Portugeese\n",
              "3440   La dichotomie nature  culture est une spécific...      French\n",
              "881    Examples include artificial neural networks mu...     English\n",
              "745    The first of these was the  BBC Domesday Proje...     English\n",
              "10000  ನಾನು ಮುಂದಿನ ಬಾರಿ ನೀವು ಶಾಲೆಯಿಂದ ಗಣಿತದ ಮನೆಕೆಲಸವನ...     Kannada\n",
              "1571   അപ്പോൾ ൽ അദ്ദേഹം  ഐ ബി എമ്മിൽ എഞ്ചിനിയർ ആയി ജോ...   Malayalam\n",
              "9426                                           يقدم عروض      Arabic"
            ]
          },
          "execution_count": 21,
          "metadata": {},
          "output_type": "execute_result"
        }
      ],
      "source": [
        "def removeEnglishLetters(text):        \n",
        "        text = re.sub(r'[a-zA-Z]+', '', text)\n",
        "        return text\n",
        "\n",
        "for index in data.index:\n",
        "    if data.loc[index,'Language']=='Russian' or data.loc[index,'Language']=='Malyalam' or data.loc[index,'Language']=='Hindi' or data.loc[index,'Language']=='Kannada' or data.loc[index,'Language']=='Tamil' or data.loc[index,'Language']=='Arabic':\n",
        "        data.loc[index,'Text'] = removeEnglishLetters(data.loc[index,'Text'])\n",
        "\n",
        "data.head(20)"
      ]
    },
    {
      "cell_type": "markdown",
      "id": "465f3952",
      "metadata": {
        "id": "465f3952"
      },
      "source": [
        "#### lower case"
      ]
    },
    {
      "cell_type": "code",
      "execution_count": 22,
      "id": "6a92f4c5",
      "metadata": {
        "colab": {
          "base_uri": "https://localhost:8080/",
          "height": 676
        },
        "id": "6a92f4c5",
        "outputId": "0f2bd438-ca19-456b-f4bc-9cc24aceed25"
      },
      "outputs": [
        {
          "data": {
            "text/html": [
              "<div>\n",
              "<style scoped>\n",
              "    .dataframe tbody tr th:only-of-type {\n",
              "        vertical-align: middle;\n",
              "    }\n",
              "\n",
              "    .dataframe tbody tr th {\n",
              "        vertical-align: top;\n",
              "    }\n",
              "\n",
              "    .dataframe thead th {\n",
              "        text-align: right;\n",
              "    }\n",
              "</style>\n",
              "<table border=\"1\" class=\"dataframe\">\n",
              "  <thead>\n",
              "    <tr style=\"text-align: right;\">\n",
              "      <th></th>\n",
              "      <th>Text</th>\n",
              "      <th>Language</th>\n",
              "    </tr>\n",
              "  </thead>\n",
              "  <tbody>\n",
              "    <tr>\n",
              "      <th>6628</th>\n",
              "      <td>со своей единственной дочерью нарциса марион б...</td>\n",
              "      <td>Russian</td>\n",
              "    </tr>\n",
              "    <tr>\n",
              "      <th>4425</th>\n",
              "      <td>dus vandaag gaan we  nieuwe slimme woorden ler...</td>\n",
              "      <td>Dutch</td>\n",
              "    </tr>\n",
              "    <tr>\n",
              "      <th>4277</th>\n",
              "      <td>voor wikipedia is een apart programma ontworpen</td>\n",
              "      <td>Dutch</td>\n",
              "    </tr>\n",
              "    <tr>\n",
              "      <th>7603</th>\n",
              "      <td>voglio continuare non sono stanco non è quando...</td>\n",
              "      <td>Italian</td>\n",
              "    </tr>\n",
              "    <tr>\n",
              "      <th>8673</th>\n",
              "      <td>fras nummer ett detta är ett annat sätt att fråga</td>\n",
              "      <td>Sweedish</td>\n",
              "    </tr>\n",
              "    <tr>\n",
              "      <th>8173</th>\n",
              "      <td>öneriler</td>\n",
              "      <td>Turkish</td>\n",
              "    </tr>\n",
              "    <tr>\n",
              "      <th>4035</th>\n",
              "      <td>si vous êtes au milieu de quelque chose chez q...</td>\n",
              "      <td>French</td>\n",
              "    </tr>\n",
              "    <tr>\n",
              "      <th>8728</th>\n",
              "      <td>saker händer bli inte upprörd om du inte har n...</td>\n",
              "      <td>Sweedish</td>\n",
              "    </tr>\n",
              "    <tr>\n",
              "      <th>7902</th>\n",
              "      <td>kanada parlamentosu vikipedinin aynı cinste in...</td>\n",
              "      <td>Turkish</td>\n",
              "    </tr>\n",
              "    <tr>\n",
              "      <th>6632</th>\n",
              "      <td>у меня вся эта грязь на моих прекрасных пальчи...</td>\n",
              "      <td>Russian</td>\n",
              "    </tr>\n",
              "    <tr>\n",
              "      <th>9603</th>\n",
              "      <td>satz nummer zwei wenn sie jemanden eine weile ...</td>\n",
              "      <td>German</td>\n",
              "    </tr>\n",
              "    <tr>\n",
              "      <th>50</th>\n",
              "      <td>since the cambrian explosion there have been ...</td>\n",
              "      <td>English</td>\n",
              "    </tr>\n",
              "    <tr>\n",
              "      <th>2285</th>\n",
              "      <td>சொந்த பேச்சாளர்கள் பயன்படுத்துவது உங்களுக்கு ந...</td>\n",
              "      <td>Tamil</td>\n",
              "    </tr>\n",
              "    <tr>\n",
              "      <th>3046</th>\n",
              "      <td>não você fez um trabalho incrível</td>\n",
              "      <td>Portugeese</td>\n",
              "    </tr>\n",
              "    <tr>\n",
              "      <th>3440</th>\n",
              "      <td>la dichotomie nature  culture est une spécific...</td>\n",
              "      <td>French</td>\n",
              "    </tr>\n",
              "    <tr>\n",
              "      <th>881</th>\n",
              "      <td>examples include artificial neural networks mu...</td>\n",
              "      <td>English</td>\n",
              "    </tr>\n",
              "    <tr>\n",
              "      <th>745</th>\n",
              "      <td>the first of these was the  bbc domesday proje...</td>\n",
              "      <td>English</td>\n",
              "    </tr>\n",
              "    <tr>\n",
              "      <th>10000</th>\n",
              "      <td>ನಾನು ಮುಂದಿನ ಬಾರಿ ನೀವು ಶಾಲೆಯಿಂದ ಗಣಿತದ ಮನೆಕೆಲಸವನ...</td>\n",
              "      <td>Kannada</td>\n",
              "    </tr>\n",
              "    <tr>\n",
              "      <th>1571</th>\n",
              "      <td>അപ്പോൾ ൽ അദ്ദേഹം  ഐ ബി എമ്മിൽ എഞ്ചിനിയർ ആയി ജോ...</td>\n",
              "      <td>Malayalam</td>\n",
              "    </tr>\n",
              "    <tr>\n",
              "      <th>9426</th>\n",
              "      <td>يقدم عروض</td>\n",
              "      <td>Arabic</td>\n",
              "    </tr>\n",
              "  </tbody>\n",
              "</table>\n",
              "</div>"
            ],
            "text/plain": [
              "                                                    Text    Language\n",
              "6628   со своей единственной дочерью нарциса марион б...     Russian\n",
              "4425   dus vandaag gaan we  nieuwe slimme woorden ler...       Dutch\n",
              "4277     voor wikipedia is een apart programma ontworpen       Dutch\n",
              "7603   voglio continuare non sono stanco non è quando...     Italian\n",
              "8673   fras nummer ett detta är ett annat sätt att fråga    Sweedish\n",
              "8173                                            öneriler     Turkish\n",
              "4035   si vous êtes au milieu de quelque chose chez q...      French\n",
              "8728   saker händer bli inte upprörd om du inte har n...    Sweedish\n",
              "7902   kanada parlamentosu vikipedinin aynı cinste in...     Turkish\n",
              "6632   у меня вся эта грязь на моих прекрасных пальчи...     Russian\n",
              "9603   satz nummer zwei wenn sie jemanden eine weile ...      German\n",
              "50      since the cambrian explosion there have been ...     English\n",
              "2285   சொந்த பேச்சாளர்கள் பயன்படுத்துவது உங்களுக்கு ந...       Tamil\n",
              "3046                   não você fez um trabalho incrível  Portugeese\n",
              "3440   la dichotomie nature  culture est une spécific...      French\n",
              "881    examples include artificial neural networks mu...     English\n",
              "745    the first of these was the  bbc domesday proje...     English\n",
              "10000  ನಾನು ಮುಂದಿನ ಬಾರಿ ನೀವು ಶಾಲೆಯಿಂದ ಗಣಿತದ ಮನೆಕೆಲಸವನ...     Kannada\n",
              "1571   അപ്പോൾ ൽ അദ്ദേഹം  ഐ ബി എമ്മിൽ എഞ്ചിനിയർ ആയി ജോ...   Malayalam\n",
              "9426                                           يقدم عروض      Arabic"
            ]
          },
          "execution_count": 22,
          "metadata": {},
          "output_type": "execute_result"
        }
      ],
      "source": [
        "data['Text'] = data['Text'].apply(lambda x: x.lower())\n",
        "data.head(20)"
      ]
    },
    {
      "cell_type": "markdown",
      "id": "e8df994d",
      "metadata": {},
      "source": [
        "#### Remove whitespaces"
      ]
    },
    {
      "cell_type": "code",
      "execution_count": null,
      "id": "3d7e1c04",
      "metadata": {},
      "outputs": [],
      "source": [
        "def remove_whitespace(text):\n",
        "    return  \" \".join(text.split())\n",
        "\n",
        "data['Text'] = data['Text'].apply(lambda x: remove_whitespace(x))"
      ]
    },
    {
      "cell_type": "markdown",
      "id": "sDN9VSwT6sO8",
      "metadata": {
        "id": "sDN9VSwT6sO8"
      },
      "source": [
        "#### stop words"
      ]
    },
    {
      "cell_type": "code",
      "execution_count": 33,
      "id": "kcSlcDXw6uYg",
      "metadata": {
        "colab": {
          "base_uri": "https://localhost:8080/",
          "height": 676
        },
        "id": "kcSlcDXw6uYg",
        "outputId": "7a4e4231-2aba-4ef7-c893-1842e0d69a1c"
      },
      "outputs": [
        {
          "data": {
            "text/html": [
              "<div>\n",
              "<style scoped>\n",
              "    .dataframe tbody tr th:only-of-type {\n",
              "        vertical-align: middle;\n",
              "    }\n",
              "\n",
              "    .dataframe tbody tr th {\n",
              "        vertical-align: top;\n",
              "    }\n",
              "\n",
              "    .dataframe thead th {\n",
              "        text-align: right;\n",
              "    }\n",
              "</style>\n",
              "<table border=\"1\" class=\"dataframe\">\n",
              "  <thead>\n",
              "    <tr style=\"text-align: right;\">\n",
              "      <th></th>\n",
              "      <th>Text</th>\n",
              "      <th>Language</th>\n",
              "    </tr>\n",
              "  </thead>\n",
              "  <tbody>\n",
              "    <tr>\n",
              "      <th>6628</th>\n",
              "      <td>своей единственной дочерью нарциса марион чрез...</td>\n",
              "      <td>Russian</td>\n",
              "    </tr>\n",
              "    <tr>\n",
              "      <th>4425</th>\n",
              "      <td>vandaag gaan we nieuwe slimme woorden leren be...</td>\n",
              "      <td>Dutch</td>\n",
              "    </tr>\n",
              "    <tr>\n",
              "      <th>4277</th>\n",
              "      <td>wikipedia apart programma ontworpen</td>\n",
              "      <td>Dutch</td>\n",
              "    </tr>\n",
              "    <tr>\n",
              "      <th>7603</th>\n",
              "      <td>voglio continuare stanco quando qualcuno chied...</td>\n",
              "      <td>Italian</td>\n",
              "    </tr>\n",
              "    <tr>\n",
              "      <th>8673</th>\n",
              "      <td>fras nummer ett detta är ett annat sätt att fråga</td>\n",
              "      <td>Sweedish</td>\n",
              "    </tr>\n",
              "    <tr>\n",
              "      <th>8173</th>\n",
              "      <td>öneriler</td>\n",
              "      <td>Turkish</td>\n",
              "    </tr>\n",
              "    <tr>\n",
              "      <th>4035</th>\n",
              "      <td>si milieu quelque chose chez quelquun demande ...</td>\n",
              "      <td>French</td>\n",
              "    </tr>\n",
              "    <tr>\n",
              "      <th>8728</th>\n",
              "      <td>saker händer bli inte upprörd om du inte har n...</td>\n",
              "      <td>Sweedish</td>\n",
              "    </tr>\n",
              "    <tr>\n",
              "      <th>7902</th>\n",
              "      <td>kanada parlamentosu vikipedinin aynı cinste in...</td>\n",
              "      <td>Turkish</td>\n",
              "    </tr>\n",
              "    <tr>\n",
              "      <th>6632</th>\n",
              "      <td>вся эта грязь моих прекрасных пальчиках хуже п...</td>\n",
              "      <td>Russian</td>\n",
              "    </tr>\n",
              "    <tr>\n",
              "      <th>9603</th>\n",
              "      <td>satz nummer zwei jemanden weile gesehen sagen ...</td>\n",
              "      <td>German</td>\n",
              "    </tr>\n",
              "    <tr>\n",
              "      <th>50</th>\n",
              "      <td>since cambrian explosion five distinctly ident...</td>\n",
              "      <td>English</td>\n",
              "    </tr>\n",
              "    <tr>\n",
              "      <th>2285</th>\n",
              "      <td>சொந்த பேச்சாளர்கள் பயன்படுத்துவது உங்களுக்கு ந...</td>\n",
              "      <td>Tamil</td>\n",
              "    </tr>\n",
              "    <tr>\n",
              "      <th>3046</th>\n",
              "      <td>não você fez um trabalho incrível</td>\n",
              "      <td>Portugeese</td>\n",
              "    </tr>\n",
              "    <tr>\n",
              "      <th>3440</th>\n",
              "      <td>dichotomie nature culture spécificité culturel...</td>\n",
              "      <td>French</td>\n",
              "    </tr>\n",
              "    <tr>\n",
              "      <th>881</th>\n",
              "      <td>examples include artificial neural networks mu...</td>\n",
              "      <td>English</td>\n",
              "    </tr>\n",
              "    <tr>\n",
              "      <th>745</th>\n",
              "      <td>first bbc domesday project included text enter...</td>\n",
              "      <td>English</td>\n",
              "    </tr>\n",
              "    <tr>\n",
              "      <th>10000</th>\n",
              "      <td>ನಾನು ಮುಂದಿನ ಬಾರಿ ನೀವು ಶಾಲೆಯಿಂದ ಗಣಿತದ ಮನೆಕೆಲಸವನ...</td>\n",
              "      <td>Kannada</td>\n",
              "    </tr>\n",
              "    <tr>\n",
              "      <th>1571</th>\n",
              "      <td>അപ്പോൾ ൽ അദ്ദേഹം  ഐ ബി എമ്മിൽ എഞ്ചിനിയർ ആയി ജോ...</td>\n",
              "      <td>Malayalam</td>\n",
              "    </tr>\n",
              "    <tr>\n",
              "      <th>9426</th>\n",
              "      <td>يقدم عروض</td>\n",
              "      <td>Arabic</td>\n",
              "    </tr>\n",
              "  </tbody>\n",
              "</table>\n",
              "</div>"
            ],
            "text/plain": [
              "                                                    Text    Language\n",
              "6628   своей единственной дочерью нарциса марион чрез...     Russian\n",
              "4425   vandaag gaan we nieuwe slimme woorden leren be...       Dutch\n",
              "4277                 wikipedia apart programma ontworpen       Dutch\n",
              "7603   voglio continuare stanco quando qualcuno chied...     Italian\n",
              "8673   fras nummer ett detta är ett annat sätt att fråga    Sweedish\n",
              "8173                                            öneriler     Turkish\n",
              "4035   si milieu quelque chose chez quelquun demande ...      French\n",
              "8728   saker händer bli inte upprörd om du inte har n...    Sweedish\n",
              "7902   kanada parlamentosu vikipedinin aynı cinste in...     Turkish\n",
              "6632   вся эта грязь моих прекрасных пальчиках хуже п...     Russian\n",
              "9603   satz nummer zwei jemanden weile gesehen sagen ...      German\n",
              "50     since cambrian explosion five distinctly ident...     English\n",
              "2285   சொந்த பேச்சாளர்கள் பயன்படுத்துவது உங்களுக்கு ந...       Tamil\n",
              "3046                   não você fez um trabalho incrível  Portugeese\n",
              "3440   dichotomie nature culture spécificité culturel...      French\n",
              "881    examples include artificial neural networks mu...     English\n",
              "745    first bbc domesday project included text enter...     English\n",
              "10000  ನಾನು ಮುಂದಿನ ಬಾರಿ ನೀವು ಶಾಲೆಯಿಂದ ಗಣಿತದ ಮನೆಕೆಲಸವನ...     Kannada\n",
              "1571   അപ്പോൾ ൽ അദ്ദേഹം  ഐ ബി എമ്മിൽ എഞ്ചിനിയർ ആയി ജോ...   Malayalam\n",
              "9426                                           يقدم عروض      Arabic"
            ]
          },
          "execution_count": 33,
          "metadata": {},
          "output_type": "execute_result"
        }
      ],
      "source": [
        "english_stop_words = stopwords.words('english')\n",
        "arabic_stop_words = stopwords.words('arabic')\n",
        "french_stop_words = stopwords.words('french')\n",
        "spanish_stop_words = stopwords.words('spanish')\n",
        "italian_stop_words = stopwords.words('italian')\n",
        "russian_stop_words = stopwords.words('russian')\n",
        "dutch_stop_words = stopwords.words('dutch')\n",
        "german_stop_words = stopwords.words('german')\n",
        "danish_stop_words = stopwords.words('danish')\n",
        "Turkish_stop_words = stopwords.words('turkish')\n",
        "Greek_stop_words = stopwords.words('greek')\n",
        "\n",
        "def remove_stop_words(sentence, lang):\n",
        "    token_words = nltk.word_tokenize(sentence)\n",
        "    filtered_sentence = [w for w in token_words if w not in lang]\n",
        "    return \" \".join(filtered_sentence)\n",
        "\n",
        "for index in data.index:\n",
        "    if data.loc[index,'Language']=='English':\n",
        "        data.loc[index,'Text'] = remove_stop_words(data.loc[index,'Text'], english_stop_words)\n",
        "    elif data.loc[index,'Language']=='Arabic':\n",
        "        data.loc[index,'Text'] = remove_stop_words(data.loc[index,'Text'], arabic_stop_words)\n",
        "    elif data.loc[index,'Language']=='French':\n",
        "        data.loc[index,'Text'] = remove_stop_words(data.loc[index,'Text'], french_stop_words)\n",
        "    elif data.loc[index,'Language']=='Spanish':\n",
        "        data.loc[index,'Text'] = remove_stop_words(data.loc[index,'Text'], spanish_stop_words)\n",
        "    elif data.loc[index,'Language']=='Italian':\n",
        "        data.loc[index,'Text'] = remove_stop_words(data.loc[index,'Text'], italian_stop_words)\n",
        "    elif data.loc[index,'Language']=='Russian':\n",
        "        data.loc[index,'Text'] = remove_stop_words(data.loc[index,'Text'], russian_stop_words)\n",
        "    elif data.loc[index,'Language']=='Dutch':\n",
        "        data.loc[index,'Text'] = remove_stop_words(data.loc[index,'Text'], dutch_stop_words)\n",
        "    elif data.loc[index,'Language']=='German':\n",
        "        data.loc[index,'Text'] = remove_stop_words(data.loc[index,'Text'], german_stop_words)\n",
        "    elif data.loc[index,'Language']=='Danish':\n",
        "        data.loc[index,'Text'] = remove_stop_words(data.loc[index,'Text'], danish_stop_words)\n",
        "    elif data.loc[index,'Language']=='Turkish':\n",
        "        data.loc[index,'Text'] = remove_stop_words(data.loc[index,'Text'], Turkish_stop_words)\n",
        "    elif data.loc[index,'Language']=='Greek':\n",
        "        data.loc[index,'Text'] = remove_stop_words(data.loc[index,'Text'], Greek_stop_words)\n",
        "\n",
        "data.head(20)"
      ]
    },
    {
      "cell_type": "markdown",
      "id": "17ed178d",
      "metadata": {
        "id": "17ed178d"
      },
      "source": [
        "#### stemming"
      ]
    },
    {
      "cell_type": "code",
      "execution_count": 34,
      "id": "fc64ad73",
      "metadata": {
        "colab": {
          "base_uri": "https://localhost:8080/",
          "height": 676
        },
        "id": "fc64ad73",
        "outputId": "04369224-8ebd-492f-ec2d-86a3a5d2e0d6"
      },
      "outputs": [
        {
          "data": {
            "text/html": [
              "<div>\n",
              "<style scoped>\n",
              "    .dataframe tbody tr th:only-of-type {\n",
              "        vertical-align: middle;\n",
              "    }\n",
              "\n",
              "    .dataframe tbody tr th {\n",
              "        vertical-align: top;\n",
              "    }\n",
              "\n",
              "    .dataframe thead th {\n",
              "        text-align: right;\n",
              "    }\n",
              "</style>\n",
              "<table border=\"1\" class=\"dataframe\">\n",
              "  <thead>\n",
              "    <tr style=\"text-align: right;\">\n",
              "      <th></th>\n",
              "      <th>Text</th>\n",
              "      <th>Language</th>\n",
              "    </tr>\n",
              "  </thead>\n",
              "  <tbody>\n",
              "    <tr>\n",
              "      <th>6628</th>\n",
              "      <td>сво единствен дочер нарцис марион чрезвычайн с...</td>\n",
              "      <td>Russian</td>\n",
              "    </tr>\n",
              "    <tr>\n",
              "      <th>4425</th>\n",
              "      <td>vandag gan we nieuw slimm woord ler betekenis ...</td>\n",
              "      <td>Dutch</td>\n",
              "    </tr>\n",
              "    <tr>\n",
              "      <th>4277</th>\n",
              "      <td>wikipedia apart programma ontworp</td>\n",
              "      <td>Dutch</td>\n",
              "    </tr>\n",
              "    <tr>\n",
              "      <th>7603</th>\n",
              "      <td>vogl continu stanc quand qualcun chied sicur a...</td>\n",
              "      <td>Italian</td>\n",
              "    </tr>\n",
              "    <tr>\n",
              "      <th>8673</th>\n",
              "      <td>fras nummer ett detta är ett annat sätt att fråga</td>\n",
              "      <td>Sweedish</td>\n",
              "    </tr>\n",
              "    <tr>\n",
              "      <th>8173</th>\n",
              "      <td>öneriler</td>\n",
              "      <td>Turkish</td>\n",
              "    </tr>\n",
              "    <tr>\n",
              "      <th>4035</th>\n",
              "      <td>si milieu quelqu chos chez quelquun demand que...</td>\n",
              "      <td>French</td>\n",
              "    </tr>\n",
              "    <tr>\n",
              "      <th>8728</th>\n",
              "      <td>saker händer bli inte upprörd om du inte har n...</td>\n",
              "      <td>Sweedish</td>\n",
              "    </tr>\n",
              "    <tr>\n",
              "      <th>7902</th>\n",
              "      <td>kanada parlamentosu vikipedinin aynı cinste in...</td>\n",
              "      <td>Turkish</td>\n",
              "    </tr>\n",
              "    <tr>\n",
              "      <th>6632</th>\n",
              "      <td>вся эт гряз мо прекрасн пальчик хуж попадет мо...</td>\n",
              "      <td>Russian</td>\n",
              "    </tr>\n",
              "    <tr>\n",
              "      <th>9603</th>\n",
              "      <td>satz numm zwei jemand weil geseh sag person la...</td>\n",
              "      <td>German</td>\n",
              "    </tr>\n",
              "    <tr>\n",
              "      <th>50</th>\n",
              "      <td>sinc cambrian explos five distinct identifi ma...</td>\n",
              "      <td>English</td>\n",
              "    </tr>\n",
              "    <tr>\n",
              "      <th>2285</th>\n",
              "      <td>சொந்த பேச்சாளர்கள் பயன்படுத்துவது உங்களுக்கு ந...</td>\n",
              "      <td>Tamil</td>\n",
              "    </tr>\n",
              "    <tr>\n",
              "      <th>3046</th>\n",
              "      <td>não você fez um trabalho incrível</td>\n",
              "      <td>Portugeese</td>\n",
              "    </tr>\n",
              "    <tr>\n",
              "      <th>3440</th>\n",
              "      <td>dichotom natur cultur spécif culturel occident...</td>\n",
              "      <td>French</td>\n",
              "    </tr>\n",
              "    <tr>\n",
              "      <th>881</th>\n",
              "      <td>exampl includ artifici neural network multilay...</td>\n",
              "      <td>English</td>\n",
              "    </tr>\n",
              "    <tr>\n",
              "      <th>745</th>\n",
              "      <td>first bbc domesday project includ text enter b...</td>\n",
              "      <td>English</td>\n",
              "    </tr>\n",
              "    <tr>\n",
              "      <th>10000</th>\n",
              "      <td>ನಾನು ಮುಂದಿನ ಬಾರಿ ನೀವು ಶಾಲೆಯಿಂದ ಗಣಿತದ ಮನೆಕೆಲಸವನ...</td>\n",
              "      <td>Kannada</td>\n",
              "    </tr>\n",
              "    <tr>\n",
              "      <th>1571</th>\n",
              "      <td>അപ്പോൾ ൽ അദ്ദേഹം  ഐ ബി എമ്മിൽ എഞ്ചിനിയർ ആയി ജോ...</td>\n",
              "      <td>Malayalam</td>\n",
              "    </tr>\n",
              "    <tr>\n",
              "      <th>9426</th>\n",
              "      <td>قدم عروض</td>\n",
              "      <td>Arabic</td>\n",
              "    </tr>\n",
              "  </tbody>\n",
              "</table>\n",
              "</div>"
            ],
            "text/plain": [
              "                                                    Text    Language\n",
              "6628   сво единствен дочер нарцис марион чрезвычайн с...     Russian\n",
              "4425   vandag gan we nieuw slimm woord ler betekenis ...       Dutch\n",
              "4277                  wikipedia apart programma ontworp        Dutch\n",
              "7603   vogl continu stanc quand qualcun chied sicur a...     Italian\n",
              "8673   fras nummer ett detta är ett annat sätt att fråga    Sweedish\n",
              "8173                                            öneriler     Turkish\n",
              "4035   si milieu quelqu chos chez quelquun demand que...      French\n",
              "8728   saker händer bli inte upprörd om du inte har n...    Sweedish\n",
              "7902   kanada parlamentosu vikipedinin aynı cinste in...     Turkish\n",
              "6632   вся эт гряз мо прекрасн пальчик хуж попадет мо...     Russian\n",
              "9603   satz numm zwei jemand weil geseh sag person la...      German\n",
              "50     sinc cambrian explos five distinct identifi ma...     English\n",
              "2285   சொந்த பேச்சாளர்கள் பயன்படுத்துவது உங்களுக்கு ந...       Tamil\n",
              "3046                   não você fez um trabalho incrível  Portugeese\n",
              "3440   dichotom natur cultur spécif culturel occident...      French\n",
              "881    exampl includ artifici neural network multilay...     English\n",
              "745    first bbc domesday project includ text enter b...     English\n",
              "10000  ನಾನು ಮುಂದಿನ ಬಾರಿ ನೀವು ಶಾಲೆಯಿಂದ ಗಣಿತದ ಮನೆಕೆಲಸವನ...     Kannada\n",
              "1571   അപ്പോൾ ൽ അദ്ദേഹം  ഐ ബി എമ്മിൽ എഞ്ചിനിയർ ആയി ജോ...   Malayalam\n",
              "9426                                           قدم عروض       Arabic"
            ]
          },
          "execution_count": 34,
          "metadata": {},
          "output_type": "execute_result"
        }
      ],
      "source": [
        "stemmerEnglish = SnowballStemmer(\"english\")\n",
        "stemmerArabic = ARLSTem()\n",
        "stemmerFrench = SnowballStemmer(\"french\")\n",
        "stemmerSpanish = SnowballStemmer(\"spanish\")\n",
        "stemmerItalian = SnowballStemmer(\"italian\")\n",
        "stemmerRussian = SnowballStemmer(\"russian\")\n",
        "stemmerDutch = SnowballStemmer(\"dutch\")\n",
        "stemmerGerman = SnowballStemmer(\"german\")\n",
        "stemmerDanish = SnowballStemmer(\"danish\")\n",
        "\n",
        "def stemSentence(sentence, porter):\n",
        "    token_words = nltk.word_tokenize(sentence)\n",
        "    stem_sentence=[]\n",
        "    for word in token_words:\n",
        "        stem_sentence.append(porter.stem(word))\n",
        "        stem_sentence.append(\" \")\n",
        "    return \"\".join(stem_sentence)\n",
        "\n",
        "for index in data.index:\n",
        "    if data.loc[index,'Language']=='English':\n",
        "        data.loc[index,'Text'] = stemSentence(data.loc[index,'Text'], stemmerEnglish)\n",
        "    elif data.loc[index,'Language']=='Arabic':\n",
        "        data.loc[index,'Text'] = stemSentence(data.loc[index,'Text'], stemmerArabic)\n",
        "    elif data.loc[index,'Language']=='French':\n",
        "        data.loc[index,'Text'] = stemSentence(data.loc[index,'Text'], stemmerFrench)\n",
        "    elif data.loc[index,'Language']=='Spanish':\n",
        "        data.loc[index,'Text'] = stemSentence(data.loc[index,'Text'], stemmerSpanish)\n",
        "    elif data.loc[index,'Language']=='Italian':\n",
        "        data.loc[index,'Text'] = stemSentence(data.loc[index,'Text'], stemmerItalian)\n",
        "    elif data.loc[index,'Language']=='Russian':\n",
        "        data.loc[index,'Text'] = stemSentence(data.loc[index,'Text'], stemmerRussian)\n",
        "    elif data.loc[index,'Language']=='Dutch':\n",
        "        data.loc[index,'Text'] = stemSentence(data.loc[index,'Text'], stemmerDutch)\n",
        "    elif data.loc[index,'Language']=='German':\n",
        "        data.loc[index,'Text'] = stemSentence(data.loc[index,'Text'], stemmerGerman)\n",
        "    elif data.loc[index,'Language']=='Danish':\n",
        "        data.loc[index,'Text'] = stemSentence(data.loc[index,'Text'], stemmerDanish)\n",
        "\n",
        "\n",
        "data.head(20)"
      ]
    },
    {
      "cell_type": "markdown",
      "id": "ca17de3d",
      "metadata": {
        "id": "ca17de3d"
      },
      "source": [
        "#### lemmatization"
      ]
    },
    {
      "cell_type": "code",
      "execution_count": 35,
      "id": "5b252f4b",
      "metadata": {
        "colab": {
          "base_uri": "https://localhost:8080/",
          "height": 676
        },
        "id": "5b252f4b",
        "outputId": "3d70da79-ae87-48f8-bd9e-afc8601155bc"
      },
      "outputs": [
        {
          "data": {
            "text/html": [
              "<div>\n",
              "<style scoped>\n",
              "    .dataframe tbody tr th:only-of-type {\n",
              "        vertical-align: middle;\n",
              "    }\n",
              "\n",
              "    .dataframe tbody tr th {\n",
              "        vertical-align: top;\n",
              "    }\n",
              "\n",
              "    .dataframe thead th {\n",
              "        text-align: right;\n",
              "    }\n",
              "</style>\n",
              "<table border=\"1\" class=\"dataframe\">\n",
              "  <thead>\n",
              "    <tr style=\"text-align: right;\">\n",
              "      <th></th>\n",
              "      <th>Text</th>\n",
              "      <th>Language</th>\n",
              "    </tr>\n",
              "  </thead>\n",
              "  <tbody>\n",
              "    <tr>\n",
              "      <th>6628</th>\n",
              "      <td>сво единствен дочер нарцис марион чрезвычайн с...</td>\n",
              "      <td>Russian</td>\n",
              "    </tr>\n",
              "    <tr>\n",
              "      <th>4425</th>\n",
              "      <td>vandag gan we nieuw slimm woord ler betekenis ...</td>\n",
              "      <td>Dutch</td>\n",
              "    </tr>\n",
              "    <tr>\n",
              "      <th>4277</th>\n",
              "      <td>wikipedia apart programma ontworp</td>\n",
              "      <td>Dutch</td>\n",
              "    </tr>\n",
              "    <tr>\n",
              "      <th>7603</th>\n",
              "      <td>vogl continu stanc quand qualcun chied sicur a...</td>\n",
              "      <td>Italian</td>\n",
              "    </tr>\n",
              "    <tr>\n",
              "      <th>8673</th>\n",
              "      <td>fras nummer ett detta är ett annat sätt att fråga</td>\n",
              "      <td>Sweedish</td>\n",
              "    </tr>\n",
              "    <tr>\n",
              "      <th>8173</th>\n",
              "      <td>öneriler</td>\n",
              "      <td>Turkish</td>\n",
              "    </tr>\n",
              "    <tr>\n",
              "      <th>4035</th>\n",
              "      <td>si milieu quelqu chos chez quelquun demand que...</td>\n",
              "      <td>French</td>\n",
              "    </tr>\n",
              "    <tr>\n",
              "      <th>8728</th>\n",
              "      <td>saker händer bli inte upprörd om du inte har n...</td>\n",
              "      <td>Sweedish</td>\n",
              "    </tr>\n",
              "    <tr>\n",
              "      <th>7902</th>\n",
              "      <td>kanada parlamentosu vikipedinin aynı cinste in...</td>\n",
              "      <td>Turkish</td>\n",
              "    </tr>\n",
              "    <tr>\n",
              "      <th>6632</th>\n",
              "      <td>вся эт гряз мо прекрасн пальчик хуж попадет мо...</td>\n",
              "      <td>Russian</td>\n",
              "    </tr>\n",
              "    <tr>\n",
              "      <th>9603</th>\n",
              "      <td>satz numm zwei jemand weil geseh sag person la...</td>\n",
              "      <td>German</td>\n",
              "    </tr>\n",
              "    <tr>\n",
              "      <th>50</th>\n",
              "      <td>sinc cambrian explo five distinct identifi mas...</td>\n",
              "      <td>English</td>\n",
              "    </tr>\n",
              "    <tr>\n",
              "      <th>2285</th>\n",
              "      <td>சொந்த பேச்சாளர்கள் பயன்படுத்துவது உங்களுக்கு ந...</td>\n",
              "      <td>Tamil</td>\n",
              "    </tr>\n",
              "    <tr>\n",
              "      <th>3046</th>\n",
              "      <td>não você fez um trabalho incrível</td>\n",
              "      <td>Portugeese</td>\n",
              "    </tr>\n",
              "    <tr>\n",
              "      <th>3440</th>\n",
              "      <td>dichotom natur cultur spécif culturel occident...</td>\n",
              "      <td>French</td>\n",
              "    </tr>\n",
              "    <tr>\n",
              "      <th>881</th>\n",
              "      <td>exampl includ artifici neural network multilay...</td>\n",
              "      <td>English</td>\n",
              "    </tr>\n",
              "    <tr>\n",
              "      <th>745</th>\n",
              "      <td>first bbc domesday project includ text enter b...</td>\n",
              "      <td>English</td>\n",
              "    </tr>\n",
              "    <tr>\n",
              "      <th>10000</th>\n",
              "      <td>ನಾನು ಮುಂದಿನ ಬಾರಿ ನೀವು ಶಾಲೆಯಿಂದ ಗಣಿತದ ಮನೆಕೆಲಸವನ...</td>\n",
              "      <td>Kannada</td>\n",
              "    </tr>\n",
              "    <tr>\n",
              "      <th>1571</th>\n",
              "      <td>അപ്പോൾ ൽ അദ്ദേഹം  ഐ ബി എമ്മിൽ എഞ്ചിനിയർ ആയി ജോ...</td>\n",
              "      <td>Malayalam</td>\n",
              "    </tr>\n",
              "    <tr>\n",
              "      <th>9426</th>\n",
              "      <td>قدم عروض</td>\n",
              "      <td>Arabic</td>\n",
              "    </tr>\n",
              "  </tbody>\n",
              "</table>\n",
              "</div>"
            ],
            "text/plain": [
              "                                                    Text    Language\n",
              "6628   сво единствен дочер нарцис марион чрезвычайн с...     Russian\n",
              "4425   vandag gan we nieuw slimm woord ler betekenis ...       Dutch\n",
              "4277                  wikipedia apart programma ontworp        Dutch\n",
              "7603   vogl continu stanc quand qualcun chied sicur a...     Italian\n",
              "8673   fras nummer ett detta är ett annat sätt att fråga    Sweedish\n",
              "8173                                            öneriler     Turkish\n",
              "4035   si milieu quelqu chos chez quelquun demand que...      French\n",
              "8728   saker händer bli inte upprörd om du inte har n...    Sweedish\n",
              "7902   kanada parlamentosu vikipedinin aynı cinste in...     Turkish\n",
              "6632   вся эт гряз мо прекрасн пальчик хуж попадет мо...     Russian\n",
              "9603   satz numm zwei jemand weil geseh sag person la...      German\n",
              "50     sinc cambrian explo five distinct identifi mas...     English\n",
              "2285   சொந்த பேச்சாளர்கள் பயன்படுத்துவது உங்களுக்கு ந...       Tamil\n",
              "3046                   não você fez um trabalho incrível  Portugeese\n",
              "3440   dichotom natur cultur spécif culturel occident...      French\n",
              "881    exampl includ artifici neural network multilay...     English\n",
              "745    first bbc domesday project includ text enter b...     English\n",
              "10000  ನಾನು ಮುಂದಿನ ಬಾರಿ ನೀವು ಶಾಲೆಯಿಂದ ಗಣಿತದ ಮನೆಕೆಲಸವನ...     Kannada\n",
              "1571   അപ്പോൾ ൽ അദ്ദേഹം  ഐ ബി എമ്മിൽ എഞ്ചിനിയർ ആയി ജോ...   Malayalam\n",
              "9426                                           قدم عروض       Arabic"
            ]
          },
          "execution_count": 35,
          "metadata": {},
          "output_type": "execute_result"
        }
      ],
      "source": [
        "nlp_en = spacy.load(\"en_core_web_sm\")\n",
        "nlp_fr = spacy.load(\"fr_core_news_sm\")\n",
        "nlp_es = spacy.load(\"es_core_news_sm\")\n",
        "nlp_it = spacy.load(\"it_core_news_sm\")\n",
        "nlp_du = spacy.load(\"nl_core_news_sm\")\n",
        "nlp_gr = spacy.load(\"de_core_news_sm\")\n",
        "\n",
        "def lemmatizationSentence(sentence, nlp):\n",
        "    doc = nlp(sentence)\n",
        "    lemma_sentence=[]\n",
        "    for token in doc:\n",
        "        lemma_sentence.append(token.lemma_)\n",
        "        lemma_sentence.append(\" \")\n",
        "    return \"\".join(lemma_sentence)\n",
        "\n",
        "for index in data.index:\n",
        "    if data.loc[index,'Language']=='English':\n",
        "        data.loc[index,'Text'] = lemmatizationSentence(data.loc[index,'Text'], nlp_en)\n",
        "    elif data.loc[index,'Language']=='French':\n",
        "        data.loc[index,'Text'] = lemmatizationSentence(data.loc[index,'Text'], nlp_fr)\n",
        "    elif data.loc[index,'Language']=='Spanish':\n",
        "        data.loc[index,'Text'] = lemmatizationSentence(data.loc[index,'Text'], nlp_es)\n",
        "    elif data.loc[index,'Language']=='Italian':\n",
        "        data.loc[index,'Text'] = lemmatizationSentence(data.loc[index,'Text'], nlp_it)\n",
        "    elif data.loc[index,'Language']=='Dutch':\n",
        "        data.loc[index,'Text'] = lemmatizationSentence(data.loc[index,'Text'], nlp_du)\n",
        "    elif data.loc[index,'Language']=='German':\n",
        "        data.loc[index,'Text'] = lemmatizationSentence(data.loc[index,'Text'], nlp_gr)\n",
        "\n",
        "data.head(20)"
      ]
    },
    {
      "cell_type": "markdown",
      "id": "f1fdb19a",
      "metadata": {
        "id": "f1fdb19a"
      },
      "source": [
        "#### encoding data to accepted in model"
      ]
    },
    {
      "cell_type": "code",
      "execution_count": 23,
      "id": "ce2db806",
      "metadata": {
        "id": "ce2db806"
      },
      "outputs": [],
      "source": [
        "le = LabelEncoder()\n",
        "cv = CountVectorizer()\n",
        "\n",
        "X = data['Text']\n",
        "y = data[\"Language\"]\n",
        "y = le.fit_transform(y)\n",
        "data_list = []\n",
        "for i in X:\n",
        "    data_list.append(i)\n",
        "X = cv.fit_transform(data_list).toarray()"
      ]
    },
    {
      "cell_type": "markdown",
      "id": "6d241ee4",
      "metadata": {
        "id": "6d241ee4"
      },
      "source": [
        "#### split data"
      ]
    },
    {
      "cell_type": "code",
      "execution_count": 24,
      "id": "3537d2f1",
      "metadata": {
        "id": "3537d2f1"
      },
      "outputs": [],
      "source": [
        "x_train, x_test, y_train, y_test = train_test_split(X, y, test_size = 0.20, random_state=42)"
      ]
    },
    {
      "cell_type": "markdown",
      "id": "27c090bc",
      "metadata": {
        "id": "27c090bc"
      },
      "source": [
        "# model MultinomialNB"
      ]
    },
    {
      "cell_type": "code",
      "execution_count": 25,
      "id": "0e64a705",
      "metadata": {
        "colab": {
          "base_uri": "https://localhost:8080/"
        },
        "id": "0e64a705",
        "outputId": "349479a0-a944-4e6a-b67a-fc9f4b897703"
      },
      "outputs": [
        {
          "name": "stdout",
          "output_type": "stream",
          "text": [
            "Accuracy is : 0.973404255319149\n"
          ]
        }
      ],
      "source": [
        "model_NB = MultinomialNB()\n",
        "model_NB.fit(x_train, y_train)\n",
        "y_pred_NB = model_NB.predict(x_test)\n",
        "ac = accuracy_score(y_test, y_pred_NB)\n",
        "cm = confusion_matrix(y_test, y_pred_NB)\n",
        "print(\"Accuracy is :\",ac)"
      ]
    },
    {
      "cell_type": "code",
      "execution_count": 26,
      "id": "RP6wLctFcO-d",
      "metadata": {
        "colab": {
          "base_uri": "https://localhost:8080/",
          "height": 296
        },
        "id": "RP6wLctFcO-d",
        "outputId": "3c6d2913-5e88-4a22-d3c8-4bfc612729d8"
      },
      "outputs": [
        {
          "data": {
            "text/plain": [
              "Text(33.0, 0.5, 'Truth')"
            ]
          },
          "execution_count": 26,
          "metadata": {},
          "output_type": "execute_result"
        },
        {
          "data": {
            "image/png": "[encoded data removed]",
            "text/plain": [
              "<Figure size 432x288 with 2 Axes>"
            ]
          },
          "metadata": {
            "needs_background": "light"
          },
          "output_type": "display_data"
        }
      ],
      "source": [
        "sns.heatmap(cm, annot=True)\n",
        "plt.xlabel('Prediction')\n",
        "plt.ylabel('Truth')"
      ]
    },
    {
      "cell_type": "markdown",
      "id": "7cf4ae07",
      "metadata": {
        "id": "7cf4ae07"
      },
      "source": [
        "# Linear Support Vector Machine"
      ]
    },
    {
      "cell_type": "code",
      "execution_count": 27,
      "id": "053aae44",
      "metadata": {
        "colab": {
          "base_uri": "https://localhost:8080/"
        },
        "id": "053aae44",
        "outputId": "47a2530d-d943-466b-a325-278910b98710"
      },
      "outputs": [
        {
          "name": "stdout",
          "output_type": "stream",
          "text": [
            "Accuracy is : 0.8558994197292069\n"
          ]
        }
      ],
      "source": [
        "model_sv = SGDClassifier(max_iter=1000, tol=0.01)\n",
        "model_sv.fit(x_train,y_train)\n",
        "y_pred_sv = model_sv.predict(x_test)\n",
        "ac = accuracy_score(y_test, y_pred_sv)\n",
        "cm = confusion_matrix(y_test, y_pred_sv)\n",
        "print(\"Accuracy is :\",ac)"
      ]
    },
    {
      "cell_type": "code",
      "execution_count": 28,
      "id": "pPhpGXULceRn",
      "metadata": {
        "colab": {
          "base_uri": "https://localhost:8080/",
          "height": 296
        },
        "id": "pPhpGXULceRn",
        "outputId": "c1412464-2c84-4c7d-b24c-a8a8f872e468"
      },
      "outputs": [
        {
          "data": {
            "text/plain": [
              "Text(33.0, 0.5, 'Truth')"
            ]
          },
          "execution_count": 28,
          "metadata": {},
          "output_type": "execute_result"
        },
        {
          "data": {
            "image/png": "[encoded data removed]",
            "text/plain": [
              "<Figure size 432x288 with 2 Axes>"
            ]
          },
          "metadata": {
            "needs_background": "light"
          },
          "output_type": "display_data"
        }
      ],
      "source": [
        "sns.heatmap(cm, annot=True)\n",
        "plt.xlabel('Prediction')\n",
        "plt.ylabel('Truth')"
      ]
    },
    {
      "cell_type": "markdown",
      "id": "11f9c931",
      "metadata": {
        "id": "11f9c931"
      },
      "source": [
        "# Random Forest"
      ]
    },
    {
      "cell_type": "code",
      "execution_count": 29,
      "id": "7e7c818d",
      "metadata": {
        "colab": {
          "base_uri": "https://localhost:8080/"
        },
        "id": "7e7c818d",
        "outputId": "39a87a9b-4372-462f-c9ce-6cbdc186faaa"
      },
      "outputs": [
        {
          "name": "stdout",
          "output_type": "stream",
          "text": [
            "Accuracy is : 0.9124758220502901\n"
          ]
        }
      ],
      "source": [
        "model_RF = RandomForestClassifier(n_estimators = 100) \n",
        "model_RF.fit(x_train, y_train)\n",
        "y_pred_RF = model_RF.predict(x_test)\n",
        "ac = accuracy_score(y_test, y_pred_RF)\n",
        "cm = confusion_matrix(y_test, y_pred_RF)\n",
        "print(\"Accuracy is :\",ac)"
      ]
    },
    {
      "cell_type": "code",
      "execution_count": 30,
      "id": "GlVoFnlEci-e",
      "metadata": {
        "colab": {
          "base_uri": "https://localhost:8080/",
          "height": 296
        },
        "id": "GlVoFnlEci-e",
        "outputId": "2657d68c-bad2-4470-9eec-515a61c017dd"
      },
      "outputs": [
        {
          "data": {
            "text/plain": [
              "Text(33.0, 0.5, 'Truth')"
            ]
          },
          "execution_count": 30,
          "metadata": {},
          "output_type": "execute_result"
        },
        {
          "data": {
            "image/png": "[encoded data removed]",
            "text/plain": [
              "<Figure size 432x288 with 2 Axes>"
            ]
          },
          "metadata": {
            "needs_background": "light"
          },
          "output_type": "display_data"
        }
      ],
      "source": [
        "sns.heatmap(cm, annot=True)\n",
        "plt.xlabel('Prediction')\n",
        "plt.ylabel('Truth')"
      ]
    },
    {
      "cell_type": "markdown",
      "id": "a8f3f05f",
      "metadata": {
        "id": "a8f3f05f"
      },
      "source": [
        "# test prediction"
      ]
    },
    {
      "cell_type": "code",
      "execution_count": 31,
      "id": "0e6f6925",
      "metadata": {
        "id": "0e6f6925"
      },
      "outputs": [],
      "source": [
        "def predict(text, model):\n",
        "     x = cv.transform([text]).toarray()\n",
        "     lang = model.predict(x)\n",
        "     lang = le.inverse_transform(lang)\n",
        "     print(\"The langauge is in\",lang[0])"
      ]
    },
    {
      "cell_type": "code",
      "execution_count": 32,
      "id": "279cac36",
      "metadata": {
        "colab": {
          "base_uri": "https://localhost:8080/"
        },
        "id": "279cac36",
        "outputId": "4d3969ec-854d-49ee-eca9-c43d5ffbe5ab"
      },
      "outputs": [
        {
          "name": "stdout",
          "output_type": "stream",
          "text": [
            "The langauge is in English\n",
            "The langauge is in Arabic\n",
            "The langauge is in German\n",
            "The langauge is in Italian\n",
            "The langauge is in French\n"
          ]
        }
      ],
      "source": [
        "predict(\"Analytics Vidhya provides a community based knowledge portal for Analytics and Data Science professionals\", model_NB)\n",
        "predict(\"توفر Analytics Vidhya بوابة معرفية قائمة على المجتمع لمحترفي التحليلات وعلوم البيانات\", model_NB)\n",
        "predict('Kernpunkt sind neue Quarantäne-Regeln. Denn in Kürze wird in Deutschland die ansteckendere Omikron-Variante des Coronavirus dominieren, wie Experten fürchten, und dann könnten Polizei oder Feuerwehr, Kliniken oder Nahverkehr in schlimme Personalengpässe geraten. Deshalb hat Bundesgesundheitsminister Karl Lauterbach (SPD) am Mittwoch einen Vorschlag vorgelegt, der kürzere Quarantänezeiten vorsieht und der weitgehend übernommen worden ist.', model_NB)\n",
        "predict('È morto Sidney Poitier, fu il primo attore afroamericano a vincere  della figlia di una coppia progressista (Katherine Hepburn e Spencer Tracy) con un medico nero e di molti altri film che hanno spianato la strada del successo a Hollywood ad attori e attrici afroamericani.', model_NB)\n",
        "predict('LA QUESTION. «Et si on arrêtait tout simplement de tester ?!». La question, posée le 3 janvier par le docteur Gérald Kierzek, directeur médical de Doctissimo, a fait petite bombe sur Twitter. Alors que les contaminations explosent, que les hôpitaux tirent la sonnette sanitaire est de retour dans les territoires doutre-mer, la suggestion a de quoi déconcerter. «En pleine période épidémique avec un variant bénin, ça se discute sérieusement !», a insisté le médecin urgentiste et chroniqueur santé, qui a étayé ses propos le jour suivant sur le plateau du Figaro Live . «On a une épidémie qui a changé de visage. Le variant Omicron n’est plus dangereux, il amène très peu à, provoque très peu de formes graves». Il faut donc sortir du «calcul épidémiologique quotidien» qui alimente les «alarmistes», et qui engendre, estime-t-il, «un effet de panique».', model_NB)"
      ]
    }
  ],
  "metadata": {
    "colab": {
      "collapsed_sections": [],
      "name": "NLP.ipynb",
      "provenance": []
    },
    "kernelspec": {
      "display_name": "Python 3",
      "language": "python",
      "name": "python3"
    },
    "language_info": {
      "codemirror_mode": {
        "name": "ipython",
        "version": 3
      },
      "file_extension": ".py",
      "mimetype": "text/x-python",
      "name": "python",
      "nbconvert_exporter": "python",
      "pygments_lexer": "ipython3",
      "version": "3.8.8"
    }
  },
  "nbformat": 4,
  "nbformat_minor": 5
}
